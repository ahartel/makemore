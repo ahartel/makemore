{
 "cells": [
  {
   "cell_type": "code",
   "execution_count": 90,
   "metadata": {},
   "outputs": [],
   "source": [
    "from pathlib import Path\n",
    "import torch\n",
    "import matplotlib.pyplot as plt\n",
    "from matplotlib.patches import Ellipse\n",
    "import matplotlib.transforms as transforms"
   ]
  },
  {
   "cell_type": "code",
   "execution_count": 62,
   "metadata": {},
   "outputs": [
    {
     "data": {
      "text/plain": [
       "[['2',\n",
       "  'YouTube Movies',\n",
       "  '170000000',\n",
       "  '0',\n",
       "  'Film & Animation',\n",
       "  'youtubemovies',\n",
       "  '1',\n",
       "  'United States',\n",
       "  'US',\n",
       "  'Games',\n",
       "  '4055159',\n",
       "  '7670',\n",
       "  '7423',\n",
       "  '12',\n",
       "  '0',\n",
       "  '0.05',\n",
       "  '0.04',\n",
       "  '0.58',\n",
       "  'nan',\n",
       "  '2006',\n",
       "  'Mar',\n",
       "  '5',\n",
       "  '88.2',\n",
       "  '328239523',\n",
       "  '14.7',\n",
       "  '270663028',\n",
       "  '37.09024',\n",
       "  '-95.712891'],\n",
       " ['3',\n",
       "  'MrBeast',\n",
       "  '166000000',\n",
       "  '28368841870',\n",
       "  'Entertainment',\n",
       "  'MrBeast',\n",
       "  '741',\n",
       "  'United States',\n",
       "  'US',\n",
       "  'Entertainment',\n",
       "  '48',\n",
       "  '1',\n",
       "  '1',\n",
       "  '1348000000',\n",
       "  '337000',\n",
       "  '5400000',\n",
       "  '4000000',\n",
       "  '64700000',\n",
       "  '8000000',\n",
       "  '2012',\n",
       "  'Feb',\n",
       "  '20',\n",
       "  '88.2',\n",
       "  '328239523',\n",
       "  '14.7',\n",
       "  '270663028',\n",
       "  '37.09024',\n",
       "  '-95.712891'],\n",
       " ['4',\n",
       "  'Cocomelon - Nursery Rhymes',\n",
       "  '162000000',\n",
       "  '1.64E+11',\n",
       "  'Education',\n",
       "  'Cocomelon - Nursery Rhymes',\n",
       "  '966',\n",
       "  'United States',\n",
       "  'US',\n",
       "  'Education',\n",
       "  '2',\n",
       "  '2',\n",
       "  '1',\n",
       "  '1975000000',\n",
       "  '493800',\n",
       "  '7900000',\n",
       "  '5900000',\n",
       "  '94800000',\n",
       "  '1000000',\n",
       "  '2006',\n",
       "  'Sep',\n",
       "  '1',\n",
       "  '88.2',\n",
       "  '328239523',\n",
       "  '14.7',\n",
       "  '270663028',\n",
       "  '37.09024',\n",
       "  '-95.712891'],\n",
       " ['5',\n",
       "  'SET India',\n",
       "  '159000000',\n",
       "  '1.48E+11',\n",
       "  'Shows',\n",
       "  'SET India',\n",
       "  '116536',\n",
       "  'India',\n",
       "  'IN',\n",
       "  'Entertainment',\n",
       "  '3',\n",
       "  '2',\n",
       "  '2',\n",
       "  '1824000000',\n",
       "  '455900',\n",
       "  '7300000',\n",
       "  '5500000',\n",
       "  '87500000',\n",
       "  '1000000',\n",
       "  '2006',\n",
       "  'Sep',\n",
       "  '20',\n",
       "  '28.1',\n",
       "  '1366417754',\n",
       "  '5.36',\n",
       "  '471031528',\n",
       "  '20.593684',\n",
       "  '78.96288'],\n",
       " ['6',\n",
       "  'Music',\n",
       "  '119000000',\n",
       "  '0',\n",
       "  'nan',\n",
       "  'Music',\n",
       "  '0',\n",
       "  'nan',\n",
       "  'nan',\n",
       "  'Music',\n",
       "  '4057944',\n",
       "  'nan',\n",
       "  'nan',\n",
       "  'nan',\n",
       "  '0',\n",
       "  '0',\n",
       "  '0',\n",
       "  '0',\n",
       "  'nan',\n",
       "  '2013',\n",
       "  'Sep',\n",
       "  '24',\n",
       "  'nan',\n",
       "  'nan',\n",
       "  'nan',\n",
       "  'nan',\n",
       "  'nan',\n",
       "  'nan'],\n",
       " ['7',\n",
       "  'ýýý Kids Diana Show',\n",
       "  '112000000',\n",
       "  '93247040539',\n",
       "  'People & Blogs',\n",
       "  'ýýý Kids Diana Show',\n",
       "  '1111',\n",
       "  'United States',\n",
       "  'US',\n",
       "  'Entertainment',\n",
       "  '5',\n",
       "  '3',\n",
       "  '3',\n",
       "  '731674000',\n",
       "  '182900',\n",
       "  '2900000',\n",
       "  '2200000',\n",
       "  '35100000',\n",
       "  'nan',\n",
       "  '2015',\n",
       "  'May',\n",
       "  '12',\n",
       "  '88.2',\n",
       "  '328239523',\n",
       "  '14.7',\n",
       "  '270663028',\n",
       "  '37.09024',\n",
       "  '-95.712891'],\n",
       " ['8',\n",
       "  'PewDiePie',\n",
       "  '111000000',\n",
       "  '29058044447',\n",
       "  'Gaming',\n",
       "  'PewDiePie',\n",
       "  '4716',\n",
       "  'Japan',\n",
       "  'JP',\n",
       "  'Entertainment',\n",
       "  '44',\n",
       "  '1',\n",
       "  '4',\n",
       "  '39184000',\n",
       "  '9800',\n",
       "  '156700',\n",
       "  '117600',\n",
       "  '1900000',\n",
       "  'nan',\n",
       "  '2010',\n",
       "  'Apr',\n",
       "  '29',\n",
       "  '63.2',\n",
       "  '126226568',\n",
       "  '2.29',\n",
       "  '115782416',\n",
       "  '36.204824',\n",
       "  '138.252924'],\n",
       " ['9',\n",
       "  'Like Nastya',\n",
       "  '106000000',\n",
       "  '90479060027',\n",
       "  'People & Blogs',\n",
       "  'Like Nastya Vlog',\n",
       "  '493',\n",
       "  'Russia',\n",
       "  'RU',\n",
       "  'People',\n",
       "  '630',\n",
       "  '5',\n",
       "  '25',\n",
       "  '48947000',\n",
       "  '12200',\n",
       "  '195800',\n",
       "  '146800',\n",
       "  '2300000',\n",
       "  '100000',\n",
       "  '2016',\n",
       "  'Jan',\n",
       "  '14',\n",
       "  '81.9',\n",
       "  '144373535',\n",
       "  '4.59',\n",
       "  '107683889',\n",
       "  '61.52401',\n",
       "  '105.318756'],\n",
       " ['10',\n",
       "  'Vlad and Niki',\n",
       "  '98900000',\n",
       "  '77180169894',\n",
       "  'Entertainment',\n",
       "  'Vlad and Niki',\n",
       "  '574',\n",
       "  'United States',\n",
       "  'US',\n",
       "  'Entertainment',\n",
       "  '8',\n",
       "  '5',\n",
       "  '6',\n",
       "  '580574000',\n",
       "  '145100',\n",
       "  '2300000',\n",
       "  '1700000',\n",
       "  '27900000',\n",
       "  '600000',\n",
       "  '2018',\n",
       "  'Apr',\n",
       "  '23',\n",
       "  '88.2',\n",
       "  '328239523',\n",
       "  '14.7',\n",
       "  '270663028',\n",
       "  '37.09024',\n",
       "  '-95.712891']]"
      ]
     },
     "execution_count": 62,
     "metadata": {},
     "output_type": "execute_result"
    }
   ],
   "source": [
    "rows = Path(\"./Global YouTube Statistics.csv\").read_text().split(\"\\n\")\n",
    "rows = [row.split(\",\") for row in rows]\n",
    "header = rows[0]\n",
    "rows = rows[1:-1]\n",
    "rows[1:10]"
   ]
  },
  {
   "cell_type": "code",
   "execution_count": 64,
   "metadata": {},
   "outputs": [
    {
     "name": "stdout",
     "output_type": "stream",
     "text": [
      "['rank', 'Youtuber', 'subscribers', 'video views', 'category', 'Title', 'uploads', 'Country', 'Abbreviation', 'channel_type', 'video_views_rank', 'country_rank', 'channel_type_rank', 'video_views_for_the_last_30_days', 'lowest_monthly_earnings', 'highest_monthly_earnings', 'lowest_yearly_earnings', 'highest_yearly_earnings', 'subscribers_for_last_30_days', 'created_year', 'created_month', 'created_date', 'Gross tertiary education enrollment (%)', 'Population', 'Unemployment rate', 'Urban_population', 'Latitude', 'Longitude']\n"
     ]
    }
   ],
   "source": [
    "print(header)\n",
    "subscribers = torch.tensor([float(row[2]) for row in rows])\n",
    "uploads = torch.tensor([float(row[6]) for row in rows])\n",
    "views = torch.tensor([float(row[3]) for row in rows])"
   ]
  },
  {
   "cell_type": "code",
   "execution_count": 111,
   "metadata": {},
   "outputs": [],
   "source": [
    "x = subscribers\n",
    "x_label = \"subs\"\n",
    "y = views\n",
    "y_label = \"views\""
   ]
  },
  {
   "cell_type": "code",
   "execution_count": 112,
   "metadata": {},
   "outputs": [],
   "source": [
    "mean_x = x.mean()\n",
    "mean_y = y.mean()"
   ]
  },
  {
   "cell_type": "code",
   "execution_count": 113,
   "metadata": {},
   "outputs": [
    {
     "data": {
      "text/plain": [
       "Text(0, 0.5, 'views')"
      ]
     },
     "execution_count": 113,
     "metadata": {},
     "output_type": "execute_result"
    },
    {
     "data": {
      "image/png": "[encoded data removed]",
      "text/plain": [
       "<Figure size 640x480 with 1 Axes>"
      ]
     },
     "metadata": {},
     "output_type": "display_data"
    }
   ],
   "source": [
    "plt.scatter(x, y)\n",
    "plt.axhline(mean_y, color='r')\n",
    "plt.axvline(mean_x, color='r')\n",
    "plt.xlabel(x_label)\n",
    "plt.ylabel(y_label)"
   ]
  },
  {
   "cell_type": "code",
   "execution_count": 114,
   "metadata": {},
   "outputs": [
    {
     "data": {
      "text/plain": [
       "tensor(0.7510)"
      ]
     },
     "execution_count": 114,
     "metadata": {},
     "output_type": "execute_result"
    }
   ],
   "source": [
    "numerator = 0.0\n",
    "N = len(x)\n",
    "x_std = 0.0\n",
    "y_std = 0.0\n",
    "for i in range(len(subscribers)):\n",
    "    numerator += (x[i]-mean_x)*(y[i]-mean_y)\n",
    "    x_std += (x[i]-mean_x)**2\n",
    "    y_std += (y[i]-mean_y)**2\n",
    "\n",
    "x_std = torch.sqrt(x_std/N)\n",
    "y_std = torch.sqrt(y_std/N)\n",
    "pearson = numerator/x_std/y_std/N\n",
    "pearson"
   ]
  },
  {
   "cell_type": "code",
   "execution_count": 116,
   "metadata": {},
   "outputs": [
    {
     "data": {
      "text/plain": [
       "<matplotlib.patches.Ellipse at 0x1e495a47f70>"
      ]
     },
     "execution_count": 116,
     "metadata": {},
     "output_type": "execute_result"
    },
    {
     "data": {
      "image/png": "[encoded data removed]",
      "text/plain": [
       "<Figure size 640x480 with 1 Axes>"
      ]
     },
     "metadata": {},
     "output_type": "display_data"
    }
   ],
   "source": [
    "f, ax = plt.subplots(1,1)\n",
    "ax.scatter(x, y)\n",
    "ax.axhline(mean_y, color='r')\n",
    "ax.axvline(mean_x, color='r')\n",
    "ax.set_xlabel(x_label)\n",
    "ax.set_ylabel(y_label)\n",
    "scale_x = 2 * x_std\n",
    "scale_y = 2 * y_std\n",
    "ellipse_1s = Ellipse(\n",
    "    (0,0),\n",
    "    width=torch.sqrt(1+pearson),\n",
    "    height=torch.sqrt(1-pearson),\n",
    "    facecolor='none',\n",
    "    edgecolor='orange')\n",
    "ellipse_2s = Ellipse(\n",
    "    (0,0),\n",
    "    width=2*torch.sqrt(1+pearson),\n",
    "    height=2*torch.sqrt(1-pearson),\n",
    "    facecolor='none',\n",
    "    edgecolor='green')\n",
    "transform = transforms.Affine2D() \\\n",
    "    .rotate_deg(45) \\\n",
    "    .scale(scale_x, scale_y) \\\n",
    "    .translate(mean_x, mean_y)\n",
    "ellipse_1s.set_transform(transform + ax.transData)\n",
    "ellipse_2s.set_transform(transform + ax.transData)\n",
    "ax.add_patch(ellipse_1s)\n",
    "ax.add_patch(ellipse_2s)"
   ]
  }
 ],
 "metadata": {
  "kernelspec": {
   "display_name": "Python 3",
   "language": "python",
   "name": "python3"
  },
  "language_info": {
   "codemirror_mode": {
    "name": "ipython",
    "version": 3
   },
   "file_extension": ".py",
   "mimetype": "text/x-python",
   "name": "python",
   "nbconvert_exporter": "python",
   "pygments_lexer": "ipython3",
   "version": "3.10.0"
  },
  "orig_nbformat": 4
 },
 "nbformat": 4,
 "nbformat_minor": 2
}
