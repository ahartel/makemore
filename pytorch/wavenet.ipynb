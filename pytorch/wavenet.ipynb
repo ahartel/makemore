{
 "cells": [
  {
   "cell_type": "code",
   "execution_count": 6,
   "metadata": {},
   "outputs": [],
   "source": [
    "import torch\n",
    "from pathlib import Path\n",
    "import matplotlib.pyplot as plt\n",
    "import torch.nn.functional as F"
   ]
  },
  {
   "cell_type": "code",
   "execution_count": 4,
   "metadata": {},
   "outputs": [
    {
     "name": "stdout",
     "output_type": "stream",
     "text": [
      "There are 32033 names in the dataset\n",
      "First 10 are:\n",
      "['emma', 'olivia', 'ava', 'isabella', 'sophia', 'charlotte', 'mia', 'amelia', 'harper', 'evelyn']\n"
     ]
    }
   ],
   "source": [
    "names = Path(\"../names.txt\").read_text().split(\"\\n\")\n",
    "num_names = len(names)\n",
    "print(f\"There are {num_names} names in the dataset\")\n",
    "print(f\"First 10 are:\\n{names[:10]}\")"
   ]
  },
  {
   "cell_type": "code",
   "execution_count": 3,
   "metadata": {},
   "outputs": [
    {
     "name": "stdout",
     "output_type": "stream",
     "text": [
      "{'.': 0, 'a': 1, 'b': 2, 'c': 3, 'd': 4, 'e': 5, 'f': 6, 'g': 7, 'h': 8, 'i': 9, 'j': 10, 'k': 11, 'l': 12, 'm': 13, 'n': 14, 'o': 15, 'p': 16, 'q': 17, 'r': 18, 's': 19, 't': 20, 'u': 21, 'v': 22, 'w': 23, 'x': 24, 'y': 25, 'z': 26}\n",
      "{0: '.', 1: 'a', 2: 'b', 3: 'c', 4: 'd', 5: 'e', 6: 'f', 7: 'g', 8: 'h', 9: 'i', 10: 'j', 11: 'k', 12: 'l', 13: 'm', 14: 'n', 15: 'o', 16: 'p', 17: 'q', 18: 'r', 19: 's', 20: 't', 21: 'u', 22: 'v', 23: 'w', 24: 'x', 25: 'y', 26: 'z'}\n"
     ]
    }
   ],
   "source": [
    "tokenizer = {s:i for (i,s) in enumerate(\".abcdefghijklmnopqrstuvwxyz\")}\n",
    "print(tokenizer)\n",
    "detokenizer = {i:s for (s,i) in tokenizer.items()}\n",
    "print(detokenizer)"
   ]
  },
  {
   "cell_type": "code",
   "execution_count": 204,
   "metadata": {},
   "outputs": [
    {
     "name": "stdout",
     "output_type": "stream",
     "text": [
      "xtr: torch.Size([205209, 4])\n",
      "ytr: torch.Size([205209])\n",
      "xdev : torch.Size([22937, 4])\n",
      "ydev: torch.Size([22937])\n"
     ]
    }
   ],
   "source": [
    "def build_split(fro: int, to: int):\n",
    "    X = []\n",
    "    Y = []\n",
    "    for name in names[fro:to]:\n",
    "        name = \"....\" + name + \".\"\n",
    "        for chars in zip(name, name[1:], name[2:], name[3:], name[4:]):\n",
    "            indeces = [tokenizer[chr] for chr in chars]\n",
    "            X.append(indeces[:4])\n",
    "            Y.append(indeces[4])\n",
    "    X = torch.tensor(X)\n",
    "    Y = torch.tensor(Y)\n",
    "    return X, Y\n",
    "\n",
    "xtr, ytr = build_split(0, num_names//100*90)\n",
    "print(f\"xtr: {xtr.shape}\")\n",
    "print(f\"ytr: {ytr.shape}\")\n",
    "xdev, ydev = build_split(num_names//100*90, num_names)\n",
    "print(f\"xdev : {xdev.shape}\")\n",
    "print(f\"ydev: {ydev.shape}\")"
   ]
  },
  {
   "cell_type": "code",
   "execution_count": 336,
   "metadata": {},
   "outputs": [],
   "source": [
    "class FlattenConsecutive(torch.nn.Module):\n",
    "    def __init__(self):\n",
    "        super(FlattenConsecutive, self).__init__()\n",
    "        self._parameters = {}\n",
    "        self._modules = {}\n",
    "        self.out = None\n",
    "\n",
    "    def forward(self, x):\n",
    "        B, C, E = x.shape\n",
    "        self.out = x.view(B, C//2, E*2)\n",
    "        if self.out.shape[1] == 1:\n",
    "            self.out = torch.squeeze(self.out, dim=1)\n",
    "        return self.out"
   ]
  },
  {
   "cell_type": "code",
   "execution_count": 344,
   "metadata": {},
   "outputs": [],
   "source": [
    "embedding_size = 5\n",
    "vocab_size = len(tokenizer)\n",
    "block_size = 4\n",
    "hidden_size = 200\n",
    "emb = torch.nn.Embedding(vocab_size, embedding_size)\n",
    "flat1 = FlattenConsecutive()\n",
    "lin1 = torch.nn.Linear(2*embedding_size, hidden_size)\n",
    "tanh = torch.nn.Tanh()\n",
    "flat2 = FlattenConsecutive()\n",
    "lin2 = torch.nn.Linear(2*hidden_size, vocab_size)\n",
    "model = torch.nn.Sequential(emb, flat1, lin1, tanh, flat2, lin2)\n",
    "for parameter in model.parameters():\n",
    "    parameter.requires_grad = True"
   ]
  },
  {
   "cell_type": "code",
   "execution_count": 345,
   "metadata": {},
   "outputs": [],
   "source": [
    "num_params = 0\n",
    "for parameter in model.parameters():\n",
    "    num_params += parameter.nelement()\n",
    "num_params\n",
    "losses = []\n",
    "batch_size = 64"
   ]
  },
  {
   "cell_type": "code",
   "execution_count": 356,
   "metadata": {},
   "outputs": [
    {
     "name": "stdout",
     "output_type": "stream",
     "text": [
      "2.051250696182251\n"
     ]
    }
   ],
   "source": [
    "for _ in range(100000):\n",
    "    indices = torch.randint(low=0, high=xtr.shape[0], size=(batch_size,))\n",
    "    xbatch = xtr[indices]\n",
    "    ybatch = ytr[indices]\n",
    "    logits = model(xbatch)\n",
    "    loss = F.cross_entropy(logits, ybatch)\n",
    "    loss.backward()\n",
    "    for param in model.parameters():\n",
    "        param.data += -0.01 * param.grad\n",
    "        param.grad = None\n",
    "    losses.append(loss.item())\n",
    "print(loss.item())"
   ]
  },
  {
   "cell_type": "code",
   "execution_count": 324,
   "metadata": {},
   "outputs": [
    {
     "name": "stdout",
     "output_type": "stream",
     "text": [
      "FlattenConsecutive() -> torch.Size([64, 2, 10])\n",
      "FlattenConsecutive() -> torch.Size([64, 1, 400])\n"
     ]
    }
   ],
   "source": [
    "for layer in model:\n",
    "    if hasattr(layer, \"out\"):\n",
    "        print(f\"{layer} -> {layer.out.shape}\")"
   ]
  },
  {
   "cell_type": "code",
   "execution_count": 357,
   "metadata": {},
   "outputs": [
    {
     "data": {
      "text/plain": [
       "[<matplotlib.lines.Line2D at 0x2a92debfd00>]"
      ]
     },
     "execution_count": 357,
     "metadata": {},
     "output_type": "execute_result"
    },
    {
     "data": {
      "image/png": "[encoded data removed]",
      "text/plain": [
       "<Figure size 640x480 with 1 Axes>"
      ]
     },
     "metadata": {},
     "output_type": "display_data"
    }
   ],
   "source": [
    "plot_losses = torch.tensor(losses)\n",
    "plot_losses = plot_losses.view(-1, 1000)\n",
    "plot_losses = plot_losses.mean(dim=1)\n",
    "plt.plot(plot_losses)"
   ]
  },
  {
   "cell_type": "code",
   "execution_count": 358,
   "metadata": {},
   "outputs": [
    {
     "name": "stdout",
     "output_type": "stream",
     "text": [
      "kori\n",
      "iseawni\n",
      "loulleni\n",
      "michaly\n",
      "arcisc\n",
      "shigh\n",
      "gerslepe\n",
      "anillee\n",
      "talouharemisra\n",
      "anne\n"
     ]
    }
   ],
   "source": [
    "for _ in range(10):\n",
    "    sampled = None\n",
    "    name = \"....\"\n",
    "    while sampled != \".\":\n",
    "        idxs = [tokenizer[chr] for chr in name[-4:]]\n",
    "        context = torch.tensor([idxs])\n",
    "        logits = model(context)\n",
    "        P = logits.softmax(1)\n",
    "        idx = torch.multinomial(P, 1)\n",
    "        sampled = detokenizer[idx.item()]\n",
    "        name += sampled\n",
    "    print(f\"{name[4:-1]}\")"
   ]
  },
  {
   "cell_type": "code",
   "execution_count": 359,
   "metadata": {},
   "outputs": [
    {
     "name": "stdout",
     "output_type": "stream",
     "text": [
      "Training loss: 2.1184051036834717\n",
      "Dev loss: 2.3338162899017334\n"
     ]
    }
   ],
   "source": [
    "logits = model(xtr)\n",
    "training_loss = F.cross_entropy(logits, ytr)\n",
    "print(f\"Training loss: {training_loss.item()}\")\n",
    "\n",
    "logits = model(xdev)\n",
    "dev_loss = F.cross_entropy(logits, ydev)\n",
    "print(f\"Dev loss: {dev_loss.item()}\")"
   ]
  }
 ],
 "metadata": {
  "kernelspec": {
   "display_name": "Python 3",
   "language": "python",
   "name": "python3"
  },
  "language_info": {
   "codemirror_mode": {
    "name": "ipython",
    "version": 3
   },
   "file_extension": ".py",
   "mimetype": "text/x-python",
   "name": "python",
   "nbconvert_exporter": "python",
   "pygments_lexer": "ipython3",
   "version": "3.10.11"
  },
  "orig_nbformat": 4
 },
 "nbformat": 4,
 "nbformat_minor": 2
}
