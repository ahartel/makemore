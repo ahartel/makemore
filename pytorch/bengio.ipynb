{
 "cells": [
  {
   "cell_type": "code",
   "execution_count": 389,
   "metadata": {},
   "outputs": [],
   "source": [
    "import torch\n",
    "import torch.nn.functional as F\n",
    "from pathlib import Path\n",
    "import matplotlib.pyplot as plt"
   ]
  },
  {
   "cell_type": "code",
   "execution_count": 394,
   "metadata": {},
   "outputs": [
    {
     "name": "stdout",
     "output_type": "stream",
     "text": [
      "There are 32033 names in the dataset\n",
      "First 10 are:\n",
      "['emma', 'olivia', 'ava', 'isabella', 'sophia', 'charlotte', 'mia', 'amelia', 'harper', 'evelyn']\n"
     ]
    }
   ],
   "source": [
    "names = Path(\"../names.txt\").read_text().split(\"\\n\")\n",
    "num_names = len(names)\n",
    "print(f\"There are {num_names} names in the dataset\")\n",
    "print(f\"First 10 are:\\n{names[:10]}\")"
   ]
  },
  {
   "cell_type": "code",
   "execution_count": 391,
   "metadata": {},
   "outputs": [
    {
     "name": "stdout",
     "output_type": "stream",
     "text": [
      "{'.': 0, 'a': 1, 'b': 2, 'c': 3, 'd': 4, 'e': 5, 'f': 6, 'g': 7, 'h': 8, 'i': 9, 'j': 10, 'k': 11, 'l': 12, 'm': 13, 'n': 14, 'o': 15, 'p': 16, 'q': 17, 'r': 18, 's': 19, 't': 20, 'u': 21, 'v': 22, 'w': 23, 'x': 24, 'y': 25, 'z': 26}\n",
      "{0: '.', 1: 'a', 2: 'b', 3: 'c', 4: 'd', 5: 'e', 6: 'f', 7: 'g', 8: 'h', 9: 'i', 10: 'j', 11: 'k', 12: 'l', 13: 'm', 14: 'n', 15: 'o', 16: 'p', 17: 'q', 18: 'r', 19: 's', 20: 't', 21: 'u', 22: 'v', 23: 'w', 24: 'x', 25: 'y', 26: 'z'}\n"
     ]
    }
   ],
   "source": [
    "tokenizer = {s:i for (i,s) in enumerate(\".abcdefghijklmnopqrstuvwxyz\")}\n",
    "print(tokenizer)\n",
    "detokenizer = {i:s for (s,i) in tokenizer.items()}\n",
    "print(detokenizer)"
   ]
  },
  {
   "cell_type": "code",
   "execution_count": 395,
   "metadata": {},
   "outputs": [
    {
     "name": "stdout",
     "output_type": "stream",
     "text": [
      "xtr: torch.Size([144041, 3, 27])\n",
      "ytr: torch.Size([144041])\n",
      "xdev : torch.Size([84105, 3, 27])\n",
      "ydev: torch.Size([84105])\n"
     ]
    }
   ],
   "source": [
    "def build_split(fro: int, to: int):\n",
    "    X = []\n",
    "    Y = []\n",
    "    for name in names[fro:to]:\n",
    "        name = \"...\" + name + \".\"\n",
    "        for chars in zip(name, name[1:], name[2:], name[3:]):\n",
    "            idx0 = tokenizer[chars[0]]\n",
    "            idx1 = tokenizer[chars[1]]\n",
    "            idx2 = tokenizer[chars[2]]\n",
    "            X.append([idx0, idx1, idx2])\n",
    "            Y.append(tokenizer[chars[3]])\n",
    "    X = F.one_hot(torch.tensor(X), num_classes=27).float()\n",
    "    Y = torch.tensor(Y)\n",
    "    return X, Y\n",
    "\n",
    "xtr, ytr = build_split(0, 20000)\n",
    "print(f\"xtr: {xtr.shape}\")\n",
    "print(f\"ytr: {ytr.shape}\")\n",
    "xdev, ydev = build_split(20000, num_names)\n",
    "print(f\"xdev : {xdev.shape}\")\n",
    "print(f\"ydev: {ydev.shape}\")"
   ]
  },
  {
   "cell_type": "code",
   "execution_count": 396,
   "metadata": {},
   "outputs": [],
   "source": [
    "embedding_size = 5\n",
    "C = torch.randn((27, embedding_size))\n",
    "W1 = torch.randn((3*embedding_size, 200)) * 0.1\n",
    "b1 = torch.zeros((200))\n",
    "W2 = torch.randn((200, 27)) * 0.1\n",
    "b2 = torch.zeros((27))\n",
    "parameters = [C, W1, b1, W2, b2]"
   ]
  },
  {
   "cell_type": "code",
   "execution_count": 397,
   "metadata": {},
   "outputs": [
    {
     "name": "stdout",
     "output_type": "stream",
     "text": [
      "8762\n"
     ]
    }
   ],
   "source": [
    "num_params = 0\n",
    "for param in parameters:\n",
    "    param.requires_grad = True\n",
    "    num_params += param.nelement()"
   ]
  },
  {
   "cell_type": "code",
   "execution_count": 398,
   "metadata": {},
   "outputs": [],
   "source": [
    "losses = []"
   ]
  },
  {
   "cell_type": "code",
   "execution_count": 410,
   "metadata": {},
   "outputs": [
    {
     "name": "stdout",
     "output_type": "stream",
     "text": [
      "2.284123420715332\n"
     ]
    }
   ],
   "source": [
    "for _ in range(2000):\n",
    "    indices = torch.randint(low=0, high=xtr.shape[0], size=(30,))\n",
    "    xbatch = xtr[indices]\n",
    "    ybatch = ytr[indices]\n",
    "    emb = xbatch @ C\n",
    "    emb = emb.view((xbatch.shape[0], 3*embedding_size))\n",
    "    h = emb @ W1 + b1\n",
    "    logits = h @ W2 + b2\n",
    "    loss = F.cross_entropy(logits, ybatch)\n",
    "    loss.backward()\n",
    "    for param in parameters:\n",
    "        param.data += -0.01 * param.grad\n",
    "        param.grad = None\n",
    "    losses.append(loss.item())\n",
    "print(loss.item())"
   ]
  },
  {
   "cell_type": "code",
   "execution_count": 411,
   "metadata": {},
   "outputs": [
    {
     "data": {
      "text/plain": [
       "[<matplotlib.lines.Line2D at 0x1a0afc7a230>]"
      ]
     },
     "execution_count": 411,
     "metadata": {},
     "output_type": "execute_result"
    },
    {
     "data": {
      "image/png": "[encoded data removed]",
      "text/plain": [
       "<Figure size 640x480 with 1 Axes>"
      ]
     },
     "metadata": {},
     "output_type": "display_data"
    }
   ],
   "source": [
    "plt.plot(losses)"
   ]
  },
  {
   "cell_type": "code",
   "execution_count": 422,
   "metadata": {},
   "outputs": [
    {
     "name": "stdout",
     "output_type": "stream",
     "text": [
      "...aikletaki.\n"
     ]
    }
   ],
   "source": [
    "sampled = None\n",
    "name = \"...\"\n",
    "while sampled != \".\":\n",
    "    idxs = [tokenizer[chr] for chr in name[-3:]]\n",
    "    context = F.one_hot(torch.tensor(idxs), num_classes=27).float()\n",
    "    emb = context @ C\n",
    "    emb = emb.view((1, 3*embedding_size))\n",
    "    h = emb @ W1 + b1\n",
    "    logits = h @ W2 + b2\n",
    "    P = logits.softmax(1)\n",
    "    idx = torch.multinomial(P, 1)\n",
    "    sampled = detokenizer[idx.item()]\n",
    "    name += sampled\n",
    "print(f\"{name}\")"
   ]
  }
 ],
 "metadata": {
  "kernelspec": {
   "display_name": "Python 3",
   "language": "python",
   "name": "python3"
  },
  "language_info": {
   "codemirror_mode": {
    "name": "ipython",
    "version": 3
   },
   "file_extension": ".py",
   "mimetype": "text/x-python",
   "name": "python",
   "nbconvert_exporter": "python",
   "pygments_lexer": "ipython3",
   "version": "3.10.11"
  },
  "orig_nbformat": 4
 },
 "nbformat": 4,
 "nbformat_minor": 2
}
